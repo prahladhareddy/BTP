{
 "cells": [
  {
   "cell_type": "code",
   "execution_count": 1,
   "id": "22367532",
   "metadata": {},
   "outputs": [],
   "source": [
    "import angr\n",
    "import pyvex\n",
    "import archinfo\n",
    "from angrutils import *\n",
    "import networkx as nx"
   ]
  },
  {
   "cell_type": "code",
   "execution_count": 2,
   "id": "ac788a32",
   "metadata": {},
   "outputs": [
    {
     "name": "stderr",
     "output_type": "stream",
     "text": [
      "WARNING | 2022-02-13 10:59:40,020 | cle.loader | The main binary is a position-independent executable. It is being loaded with a base address of 0x400000.\n"
     ]
    }
   ],
   "source": [
    "p = angr.Project(\"../test/exe/sort.o\",auto_load_libs=False)"
   ]
  },
  {
   "cell_type": "code",
   "execution_count": 3,
   "id": "45206dab",
   "metadata": {},
   "outputs": [],
   "source": [
    "start_state = p.factory.entry_state()"
   ]
  },
  {
   "cell_type": "code",
   "execution_count": 4,
   "id": "ae62672b",
   "metadata": {},
   "outputs": [],
   "source": [
    "cfg = p.analyses.CFGEmulated(fail_fast=True, starts=[p.entry], initial_state=start_state)"
   ]
  },
  {
   "cell_type": "code",
   "execution_count": 5,
   "id": "51ff094c",
   "metadata": {},
   "outputs": [],
   "source": [
    "plot_cfg(cfg, \"../test/cfg/sort\", vexinst=True, remove_imports=True, remove_path_terminator=True)  "
   ]
  },
  {
   "cell_type": "code",
   "execution_count": 78,
   "id": "6f3451f5",
   "metadata": {},
   "outputs": [],
   "source": [
    "# def NoOp(s):\n",
    "#     raise Exception('Not Implimented NoOp')\n",
    "#     return s\n",
    "\n",
    "# def IMark(s):\n",
    "#     s.instAddr = hex(s.stmt.addr)\n",
    "# #     print(s.addr)\n",
    "#     return s\n",
    "\n",
    "# def AbiHint(s):\n",
    "#     return s\n",
    "# #     raise Exception('Not Implimented AbiHint')\n",
    "\n",
    "# def Put(s):\n",
    "#     s.gen[s.stmt.offset] = s.instAddr\n",
    "#     return s\n",
    "\n",
    "# def PutI(s):\n",
    "#     raise Exception('Not Implimented PutI')\n",
    "#     return s\n",
    "\n",
    "# def WrTmp(s):\n",
    "#     return s\n",
    "\n",
    "# def Store(s):\n",
    "# #     raise Exception('Not Implimented Store')\n",
    "#     return s;\n",
    "\n",
    "# def CAS(s):\n",
    "#     raise Exception('Not Implimented CAS')\n",
    "#     return s\n",
    "\n",
    "# def LLSC(s):\n",
    "#     raise Exception('Not Implimented LLSC')\n",
    "#     return s\n",
    "\n",
    "# def MBE(s):\n",
    "#     raise Exception('Not Implimented MBE')\n",
    "#     return s\n",
    "\n",
    "# def Dirty(s):\n",
    "#     raise Exception('Not Implimented Dirty')\n",
    "#     return s\n",
    "\n",
    "# def Exit(s):\n",
    "# #     s.stmt.pp()\n",
    "# #     raise Exception('Not Implimented Exit', s.addr)\n",
    "#     return s\n",
    "\n",
    "# def LoadG(s):\n",
    "#     raise Exception('Not Implimented LoadG')\n",
    "#     return s\n",
    "\n",
    "# def StoreG(s):\n",
    "#     raise Exception('Not Implimented StoreG')\n",
    "#     return s;\n"
   ]
  },
  {
   "cell_type": "code",
   "execution_count": 79,
   "id": "e4d2900e",
   "metadata": {},
   "outputs": [],
   "source": [
    "# class st:\n",
    "#     def __init__(self):\n",
    "#         self.instAddr = 0\n",
    "#         self.addr = 0\n",
    "#         self.gen = {}\n",
    "#         self.stmt = None\n",
    "        \n",
    "        \n",
    "# def getGen(block):\n",
    "#     s = st()\n",
    "#     s.addr = block.addr\n",
    "#     for stmt in block.vex.statements:\n",
    "#         s.stmt = stmt\n",
    "#         if stmt.tag == 'Ist_NoOp':\n",
    "#             s = NoOp(s)\n",
    "#         if stmt.tag == 'Ist_IMark':\n",
    "#             s = IMark(s)\n",
    "#         if stmt.tag == 'Ist_AbiHint':\n",
    "#             s = AbiHint(s)\n",
    "#         if stmt.tag == 'Ist_Put':\n",
    "#             s = Put(s)\n",
    "#         if stmt.tag == 'Ist_PutI':\n",
    "#             s = PutI(s)\n",
    "#         if stmt.tag == 'Ist_WrTmp':\n",
    "#             s = WrTmp(s)\n",
    "#         if stmt.tag == 'Ist_Store':\n",
    "#             s = Store(s)\n",
    "#         if stmt.tag == 'Ist_CAS':\n",
    "#             s = CAS(s)\n",
    "#         if stmt.tag == 'Ist_LLSC':\n",
    "#             s = LLSC(s)\n",
    "#         if stmt.tag == 'Ist_MBE':\n",
    "#             s = MBE(s)\n",
    "#         if stmt.tag == 'Ist_Dirty':\n",
    "#             s = Dirty(s)\n",
    "#         if stmt.tag == 'Ist_Exit':\n",
    "#             s = Exit(s)\n",
    "#         if stmt.tag == 'Ist_LoadG':\n",
    "#             s = LoadG(s)\n",
    "#         if stmt.tag == 'Ist_StoreG':\n",
    "#             s = StoreG(s)\n",
    "#     return s.gen"
   ]
  },
  {
   "cell_type": "code",
   "execution_count": 80,
   "id": "cfe9c4a1",
   "metadata": {},
   "outputs": [],
   "source": [
    "# b = list(cfg.graph.nodes)[0].block"
   ]
  },
  {
   "cell_type": "code",
   "execution_count": 81,
   "id": "724f3f5b",
   "metadata": {},
   "outputs": [],
   "source": [
    "# b.vex.pp()"
   ]
  },
  {
   "cell_type": "code",
   "execution_count": 82,
   "id": "6ab39b34",
   "metadata": {},
   "outputs": [],
   "source": [
    "# getGen(b)"
   ]
  },
  {
   "cell_type": "code",
   "execution_count": 83,
   "id": "049149c8",
   "metadata": {},
   "outputs": [],
   "source": [
    "# for bl in list(cfg.graph.nodes):\n",
    "#     if(bl.block != None):\n",
    "#         print(getGen(bl.block))"
   ]
  },
  {
   "cell_type": "code",
   "execution_count": 84,
   "id": "92f008a5",
   "metadata": {},
   "outputs": [],
   "source": [
    "# p.factory.block(4198400).vex.pp()"
   ]
  },
  {
   "cell_type": "code",
   "execution_count": 85,
   "id": "f2c300b7",
   "metadata": {},
   "outputs": [],
   "source": [
    "# b = p.factory.block(4198400).vex"
   ]
  },
  {
   "cell_type": "code",
   "execution_count": 86,
   "id": "d655758f",
   "metadata": {},
   "outputs": [],
   "source": [
    "# list(b.statements)[-1].offsIP"
   ]
  },
  {
   "cell_type": "code",
   "execution_count": 87,
   "id": "8b43ea1c",
   "metadata": {},
   "outputs": [],
   "source": [
    "# for n in list(cfg.graph.nodes):\n",
    "#     for stmt in n.block.vex:\n",
    "#         (l,r) = getLR"
   ]
  },
  {
   "cell_type": "code",
   "execution_count": 88,
   "id": "3c5b6eed",
   "metadata": {},
   "outputs": [],
   "source": [
    "# for n in cfg:\n",
    "#     for stmt in node:\n",
    "#         a = lhs[stmt]\n",
    "#         l = []\n",
    "#         vis = []\n",
    "#         for n2 in succ(n1):\n",
    "#             bfs(cfg,a,l,vis)\n",
    "            \n",
    "# bfs(cfg,n2,l,vis):\n",
    "#     if n2 in vis:\n",
    "#         return\n",
    "#     else:\n",
    "#         vis.append(n2)\n",
    "#     for stm in n2:\n",
    "#         (l,r) = lrstmt(sim)\n",
    "#         if l1 in r:\n",
    "            \n",
    "#         if l1 in l:\n",
    "#             return"
   ]
  },
  {
   "cell_type": "code",
   "execution_count": 23,
   "id": "16a61bc8",
   "metadata": {},
   "outputs": [],
   "source": [
    "class stmtInfo:\n",
    "    def __init__(self,stmt):\n",
    "        self.init()\n",
    "        self.__extract_stmt_info(stmt)\n",
    "    \n",
    "    def init(self):\n",
    "        self.tempAss = []\n",
    "        self.guestAss = []\n",
    "        self.memAss = False\n",
    "        self.usedTemps = []\n",
    "        self.usedguest = []\n",
    "        self.usedMem = []\n",
    "        self.addr = 0\n",
    "        self.memRead = False\n",
    "        self.condWrite = []\n",
    "        self.InstEnd = False\n",
    "        self.BlockEnd = False\n",
    "\n",
    "        \n",
    "    def __extract_stmt_info(self,stmt):\n",
    "        if stmt.tag == 'Ist_NoOp':\n",
    "            self.__NoOp(stmt)\n",
    "        if stmt.tag == 'Ist_IMark':\n",
    "            self.__IMark(stmt)\n",
    "        if stmt.tag == 'Ist_AbiHint':\n",
    "            self.__AbiHint(stmt)\n",
    "        if stmt.tag == 'Ist_Put':\n",
    "            self.__Put(stmt)\n",
    "        if stmt.tag == 'Ist_PutI':\n",
    "            self.__PutI(stmt)\n",
    "        if stmt.tag == 'Ist_WrTmp':\n",
    "            self.__WrTmp(stmt)\n",
    "        if stmt.tag == 'Ist_Store':\n",
    "            self.__Store(stmt)\n",
    "        if stmt.tag == 'Ist_CAS':\n",
    "            self.__CAS(stmt)\n",
    "        if stmt.tag == 'Ist_LLSC':\n",
    "            self.__LLSC(stmt)\n",
    "        if stmt.tag == 'Ist_MBE':\n",
    "            self.__MBE(stmt)\n",
    "        if stmt.tag == 'Ist_Dirty':\n",
    "            self.__Dirty(stmt)\n",
    "        if stmt.tag == 'Ist_Exit':\n",
    "            self.__Exit(stmt)\n",
    "        if stmt.tag == 'Ist_LoadG':\n",
    "            self.__LoadG(stmt)\n",
    "        if stmt.tag == 'Ist_StoreG':\n",
    "            self.__StoreG(stmt)\n",
    "\n",
    "    def __NoOp(self,stmt):\n",
    "        print(\"NoOp found\")\n",
    "\n",
    "    def __IMark(self,stmt):\n",
    "        self.addr = stmt.addr\n",
    "        self.InstEnd = True\n",
    "\n",
    "    def __AbiHint(self,stmt):\n",
    "        # raise Exception('Not Implimented AbiHint')\n",
    "        self.InstEnd = True\n",
    "        self.BlockEnd = True\n",
    "        pass\n",
    "\n",
    "    def __Put(self,stmt):\n",
    "        self.guestAss.append(stmt.offset)\n",
    "        self.__parseData(stmt.data)\n",
    "        # raise Exception('Not Implimented Put')\n",
    "\n",
    "    def __PutI(self,stmt):\n",
    "        raise Exception('Not Implimented PutI')\n",
    "\n",
    "    def __WrTmp(self,stmt):\n",
    "        self.tempAss.append(stmt.tmp)\n",
    "        self.__parseData(stmt.data)\n",
    "        # raise Exception('Not Implimented WrTmp')\n",
    "\n",
    "    def __Store(self,stmt):\n",
    "        self.memAss = False\n",
    "        self.usedMem.append(stmt.addr)\n",
    "        self.__parseData(stmt.data)\n",
    "        # raise Exception('Not Implimented Store')\n",
    "\n",
    "    def __CAS(self,stmt):\n",
    "        raise Exception('Not Implimented CAS')\n",
    "\n",
    "    def __LLSC(self,stmt):\n",
    "        raise Exception('Not Implimented LLSC')\n",
    "\n",
    "    def __MBE(self,stmt):\n",
    "        raise Exception('Not Implimented MBE')\n",
    "\n",
    "    def __Dirty(self,stmt):\n",
    "        raise Exception('Not Implimented Dirty')\n",
    "\n",
    "    def __Exit(self,stmt):\n",
    "        self.__parseData(stmt.guard)\n",
    "        self.condWrite.append(stmt.offsIP)\n",
    "        self.InstEnd = True\n",
    "        self.BlockEnd = True\n",
    "        # raise Exception('Not Implimented Exit')\n",
    "\n",
    "    def __LoadG(self,stmt):\n",
    "        raise Exception('Not Implimented LoadG')\n",
    "\n",
    "    def __StoreG(self,stmt):\n",
    "        raise Exception('Not Implimented StoreG')\n",
    "\n",
    "    def __parseData(self,expr):\n",
    "        # print(expr.tag)\n",
    "        if expr.tag == 'Iex_Binder':\n",
    "            self.__Binder(expr)\n",
    "        if expr.tag == 'Iex_VECRET':\n",
    "            self.__VECRET(expr)\n",
    "        if expr.tag == 'Iex_GSPTR':\n",
    "            self.__GSPTR(expr)\n",
    "        if expr.tag == 'Iex_GetI':\n",
    "            self.__GetI(expr)\n",
    "        if expr.tag == 'Iex_RdTmp':\n",
    "            self.__RdTmp(expr)\n",
    "        if expr.tag == 'Iex_Get':\n",
    "            self.__Get(expr)\n",
    "        if expr.tag == 'Iex_Qop':\n",
    "            self.__Qop(expr)\n",
    "        if expr.tag == 'Iex_Triop':\n",
    "            self.__Triop(expr)\n",
    "        if expr.tag == 'Iex_Binop':\n",
    "            self.__Binop(expr)\n",
    "        if expr.tag == 'Iex_Unop':\n",
    "            self.__Unop(expr)\n",
    "        if expr.tag == 'Iex_Load':\n",
    "            self.__Load(expr)\n",
    "        if expr.tag == 'Iex_Const':\n",
    "            self. __Const(expr)\n",
    "        if expr.tag == 'Iex_ITE':\n",
    "            self.__ITE(expr)\n",
    "        if expr.tag == 'Iex_CCall':\n",
    "            self.__CCall(expr)\n",
    "\n",
    "    def __Binder(self,expr):\n",
    "    \traise Exception('Not Implimented Binder')\n",
    "\n",
    "    def __VECRET(self,expr):\n",
    "        raise Exception('Not Implimented VECRET')\n",
    "\n",
    "    def __GSPTR(self,expr):\n",
    "        raise Exception('Not Implimented GSPTR')\n",
    "\n",
    "    def __GetI(self,expr):\n",
    "        raise Exception('Not Implimented GetI')\n",
    "\n",
    "    def __RdTmp(self,expr):\n",
    "        # expr.pp()\n",
    "        self.usedTemps.append(expr.tmp)\n",
    "        # raise Exception('Not Implimented RdTmp')\n",
    "\n",
    "    def __Get(self,expr):\n",
    "        self.usedguest.append(expr.offset)\n",
    "        # raise Exception('Not Implimented Get')\n",
    "\n",
    "    def __Qop(self,expr):\n",
    "        for arg in expr.args:\n",
    "            self.__parseData(arg)\n",
    "        raise Exception('Not Implimented Qop')\n",
    "\n",
    "    def __Triop(self,expr):\n",
    "        for arg in expr.args:\n",
    "            self.__parseData(arg)\n",
    "        raise Exception('Not Implimented Triop')\n",
    "\n",
    "    def __Binop(self,expr):\n",
    "        for arg in expr.args:\n",
    "            self.__parseData(arg)\n",
    "        # raise Exception('Not Implimented Binop')\n",
    "\n",
    "    def __Unop(self,expr):\n",
    "        self.__parseData(expr.args[0])\n",
    "        # raise Exception('Not Implimented Unop')\n",
    "\n",
    "    def __Load(self,expr):\n",
    "        self.memRead = True\n",
    "        self.__parseData(expr.addr)\n",
    "        # raise Exception('Not Implimented Load')\n",
    "\n",
    "    def __Const(self,expr):\n",
    "        pass\n",
    "        # raise Exception('Not Implimented Const')\n",
    "\n",
    "    def __ITE(self,expr):\n",
    "        raise Exception('Not Implimented ITE')\n",
    "\n",
    "    def __CCall(self,expr):\n",
    "        for arg in expr.args:\n",
    "            self.__parseData(arg)\n",
    "        # raise Exception('Not Implimented CCall')"
   ]
  },
  {
   "cell_type": "code",
   "execution_count": 90,
   "id": "eebaacf1",
   "metadata": {},
   "outputs": [],
   "source": [
    "# x = stmtInfo(2)"
   ]
  },
  {
   "cell_type": "code",
   "execution_count": 91,
   "id": "9c472f0b",
   "metadata": {},
   "outputs": [],
   "source": [
    "# x.tempAss"
   ]
  },
  {
   "cell_type": "code",
   "execution_count": 7,
   "id": "55cb0254",
   "metadata": {},
   "outputs": [],
   "source": [
    "addr = int(0x401376)"
   ]
  },
  {
   "cell_type": "code",
   "execution_count": 8,
   "id": "5d042a9c",
   "metadata": {},
   "outputs": [
    {
     "data": {
      "text/plain": [
       "4199286"
      ]
     },
     "execution_count": 8,
     "metadata": {},
     "output_type": "execute_result"
    }
   ],
   "source": [
    "addr"
   ]
  },
  {
   "cell_type": "code",
   "execution_count": 98,
   "id": "027b7660",
   "metadata": {},
   "outputs": [],
   "source": [
    "# p.factory.block(addr).vex.pp()"
   ]
  },
  {
   "cell_type": "code",
   "execution_count": 99,
   "id": "a35f7530",
   "metadata": {},
   "outputs": [],
   "source": [
    "# b = p.factory.block(addr).vex.pp()"
   ]
  },
  {
   "cell_type": "code",
   "execution_count": 9,
   "id": "d61f2c48",
   "metadata": {},
   "outputs": [],
   "source": [
    "bloc = None\n",
    "for n in cfg.graph.nodes:\n",
    "    b = n.block\n",
    "    if b!=None :\n",
    "        for stmt in b.vex.statements:\n",
    "            if stmt.tag == 'Ist_IMark':\n",
    "                if stmt.addr == addr:\n",
    "                    bloc = b\n",
    "                    break\n",
    "        else:\n",
    "            continue\n",
    "        break\n",
    "                    "
   ]
  },
  {
   "cell_type": "code",
   "execution_count": 10,
   "id": "2d38a9c1",
   "metadata": {},
   "outputs": [
    {
     "data": {
      "text/plain": [
       "<Block for 0x401370, 49 bytes>"
      ]
     },
     "execution_count": 10,
     "metadata": {},
     "output_type": "execute_result"
    }
   ],
   "source": [
    "bloc"
   ]
  },
  {
   "cell_type": "code",
   "execution_count": 12,
   "id": "c1dc562e",
   "metadata": {
    "scrolled": false
   },
   "outputs": [
    {
     "name": "stdout",
     "output_type": "stream",
     "text": [
      "[]\n",
      "[136, 184]\n",
      "[136]\n",
      "[<CFGENode __libc_csu_init 0x401370[49]>]\n",
      "dependence\n",
      "('0x401374', 'guest', 136)\n",
      "kill\n",
      "('0x40137f', 'guest', 184)\n",
      "('0x40139c', 'guest', 136)\n"
     ]
    }
   ],
   "source": [
    "vis = []\n",
    "f = 'NF'\n",
    "addr1 = addr\n",
    "temp = []\n",
    "off = []\n",
    "dep = []\n",
    "kill = []\n",
    "for stmt in bloc.vex.statements:\n",
    "    if f == 'NF':\n",
    "        if stmt.tag == 'Ist_IMark':\n",
    "            if stmt.addr == addr:\n",
    "                f = 'JF'\n",
    "                continue\n",
    "                \n",
    "    if f == 'JF':\n",
    "        info = stmtInfo(stmt)\n",
    "        if(info.addr != 0):\n",
    "            addr1 = info.addr\n",
    "        if info.InstEnd == True:\n",
    "            f = 'F'\n",
    "            print(temp)\n",
    "            print(off)\n",
    "            continue\n",
    "        temp.extend(info.tempAss)\n",
    "        off.extend(info.guestAss)\n",
    "        \n",
    "    if f=='F':\n",
    "        info = stmtInfo(stmt)\n",
    "        if(info.addr != 0):\n",
    "            addr1 = info.addr\n",
    "        for t in temp:\n",
    "            for u in info.usedTemps:\n",
    "                if u == t:\n",
    "                    dep.append((hex(addr1),\"temp\",u))\n",
    "        for o in off:\n",
    "            for u in info.usedguest:\n",
    "                if o == u:\n",
    "                    dep.append((hex(addr1),\"guest\",u))\n",
    "        for t in temp:\n",
    "            if t in info.tempAss:\n",
    "                temp.remove(t)\n",
    "                kill.append((hex(addr1),\"temp\",t))\n",
    "        for o in off:\n",
    "            if o in info.guestAss:\n",
    "                off.remove(o)\n",
    "                kill.append((hex(addr1),\"guest\",o))\n",
    "\n",
    "\n",
    "print(off)\n",
    "\n",
    "for reg in off:\n",
    "    vis=[]\n",
    "    dfs(vis,n,cfg,reg,dep,kill)\n",
    "\n",
    "print(\"dependence\")\n",
    "for d in dep:\n",
    "    print(d)\n",
    "    \n",
    "print(\"kill\")\n",
    "for k in kill:\n",
    "    print(k)\n",
    "    \n"
   ]
  },
  {
   "cell_type": "code",
   "execution_count": 7,
   "id": "eaaa6ad1",
   "metadata": {},
   "outputs": [],
   "source": [
    "def dfs(vis,node,cfg,reg,dep,kill):\n",
    "    if node in vis:\n",
    "        return\n",
    "    vis.append(node)\n",
    "    print(vis)\n",
    "    addr = 0\n",
    "    if node.block != None:\n",
    "        for stmt in node.block.vex.statements:\n",
    "            info = stmtInfo(stmt)\n",
    "            if(info.addr!=0):\n",
    "                addr = info.addr\n",
    "\n",
    "            if reg in info.usedguest:\n",
    "                dep.append((hex(addr),\"guest\",reg))\n",
    "\n",
    "            if reg in info.guestAss:\n",
    "                kill.append((hex(addr1),\"guest\",o))\n",
    "                return\n",
    "        \n",
    "    for n in cfg.graph.predecessors(n):\n",
    "        dfs(vis,n,cfg,reg,dep,kill)"
   ]
  },
  {
   "cell_type": "code",
   "execution_count": 39,
   "id": "4559fec5",
   "metadata": {},
   "outputs": [],
   "source": [
    "def dfs(n,cfg,dfg,g,vis,addr):\n",
    "    if n in vis:\n",
    "        return\n",
    "    vis.append(n)\n",
    "    try:\n",
    "        stmts = n.block.vex.statements\n",
    "    except:\n",
    "        stmts = []\n",
    "    addr1 = 0\n",
    "    for stmt in stmts:\n",
    "        if stmt.tag == 'Ist_IMark':\n",
    "            addr1 = stmt.addr\n",
    "        info = stmtInfo(stmt)\n",
    "        if g in info.usedguest:\n",
    "            dfg.add_edge(hex(addr),hex(addr1),object = {\"kind\" : \"dep\",\"passby\" : \"guest\", \"num\" : g})\n",
    "        if g in info.guestAss:\n",
    "            dfg.add_edge(hex(addr),hex(addr1),object = {\"kind\" : \"kill\",\"passby\" : \"guest\", \"num\" : g})\n",
    "            return\n",
    "    for nei in cfg.graph.successors(n):\n",
    "        dfs(nei,cfg,dfg,g,vis,addr) "
   ]
  },
  {
   "cell_type": "code",
   "execution_count": 40,
   "id": "67b65448",
   "metadata": {},
   "outputs": [],
   "source": [
    "def add_edges(dfg,cfg,nodes,stmts,node_ind,stmt_ind):\n",
    "    addr = stmts[stmt_ind].addr\n",
    "    addr1 = 0\n",
    "    stmt_ind+=1\n",
    "    guest = []\n",
    "    temp = []\n",
    "    inst_comp = False\n",
    "    for ind in range(stmt_ind,len(stmts)):\n",
    "        if not(inst_comp) :\n",
    "            info = stmtInfo(stmts[ind])\n",
    "            guest.extend(info.guestAss)\n",
    "            temp.extend(info.tempAss)\n",
    "            if stmts[ind].tag == 'Ist_IMark':\n",
    "                inst_comp = True\n",
    "                addr1 = info.addr\n",
    "        else:\n",
    "            info = stmtInfo(stmts[ind])\n",
    "            for g in guest:\n",
    "                if g in info.usedguest:\n",
    "                    dfg.add_edge(hex(addr),hex(addr1),object = {\"kind\" : \"dep\",\"passby\": \"guest\", \"num\" : g})\n",
    "                if g in info.guestAss:\n",
    "                    guest.remove(g)\n",
    "                    dfg.add_edge(hex(addr),hex(addr1),object = {\"kind\" : \"kill\",\"passby\" : \"guest\", \"num\" : g})\n",
    "            for t in temp:\n",
    "                if t in info.usedTemps:\n",
    "                    dfg.add_edge(hex(addr),hex(addr1),object = {\"kind\" : \"dep\",\"passby\" : \"temp\", \"num\" : t})\n",
    "                if t in info.tempAss:\n",
    "                    temp.remove(t)\n",
    "                    dfg.add_edge(hex(addr),hex(addr1),object = {\"kind\" : \"kill\",\"passby\" : \"temp\", \"num\" : t})\n",
    "                    \n",
    "    for g in guest:\n",
    "        vis = []\n",
    "        for n in cfg.graph.successors(nodes[node_ind]):\n",
    "            dfs(n,cfg,dfg,g,vis,addr)       "
   ]
  },
  {
   "cell_type": "code",
   "execution_count": 41,
   "id": "b3f2fb61",
   "metadata": {},
   "outputs": [],
   "source": [
    "nodes = list(cfg.graph.nodes)\n",
    "dfg = nx.DiGraph()\n",
    "for node_ind in range(0,len(nodes)):\n",
    "    try:\n",
    "        stmts = list(nodes[node_ind].block.vex.statements)\n",
    "    except:\n",
    "        continue\n",
    "    for stmt_ind in range(0,len(stmts)):\n",
    "        if stmts[stmt_ind].tag == 'Ist_IMark':\n",
    "            add_edges(dfg,cfg,nodes,stmts,node_ind,stmt_ind)\n",
    "             "
   ]
  },
  {
   "cell_type": "code",
   "execution_count": 68,
   "id": "bec4ffe3",
   "metadata": {},
   "outputs": [
    {
     "name": "stdout",
     "output_type": "stream",
     "text": [
      "0x40138c\n",
      "0x40125c\n"
     ]
    }
   ],
   "source": [
    "# list(dfg.successors('0x4010c4'))\n",
    "for e in dfg.adj['0x4010c4']:\n",
    "    if dfg.adj['0x4010c4'][e]['object']['kind'] == 'dep':\n",
    "        print(e)"
   ]
  },
  {
   "cell_type": "code",
   "execution_count": 11,
   "id": "5eb6a124",
   "metadata": {},
   "outputs": [
    {
     "data": {
      "text/plain": [
       "NodeView((1, 2))"
      ]
     },
     "execution_count": 11,
     "metadata": {},
     "output_type": "execute_result"
    }
   ],
   "source": [
    "g = nx.DiGraph()\n",
    "g.add_edge(1,2)\n",
    "g.nodes"
   ]
  },
  {
   "cell_type": "code",
   "execution_count": 58,
   "id": "f455dfac",
   "metadata": {},
   "outputs": [
    {
     "ename": "TypeError",
     "evalue": "'method' object is not subscriptable",
     "output_type": "error",
     "traceback": [
      "\u001b[0;31m---------------------------------------------------------------------------\u001b[0m",
      "\u001b[0;31mTypeError\u001b[0m                                 Traceback (most recent call last)",
      "Input \u001b[0;32mIn [58]\u001b[0m, in \u001b[0;36m<module>\u001b[0;34m\u001b[0m\n\u001b[0;32m----> 1\u001b[0m \u001b[43mg\u001b[49m\u001b[38;5;241;43m.\u001b[39;49m\u001b[43madjacency\u001b[49m\u001b[43m[\u001b[49m\u001b[38;5;241;43m1\u001b[39;49m\u001b[43m]\u001b[49m\n",
      "\u001b[0;31mTypeError\u001b[0m: 'method' object is not subscriptable"
     ]
    }
   ],
   "source": [
    "g.adjacency[1]"
   ]
  },
  {
   "cell_type": "code",
   "execution_count": null,
   "id": "a9d4ba0c",
   "metadata": {},
   "outputs": [],
   "source": []
  }
 ],
 "metadata": {
  "kernelspec": {
   "display_name": "Python 3 (ipykernel)",
   "language": "python",
   "name": "python3"
  },
  "language_info": {
   "codemirror_mode": {
    "name": "ipython",
    "version": 3
   },
   "file_extension": ".py",
   "mimetype": "text/x-python",
   "name": "python",
   "nbconvert_exporter": "python",
   "pygments_lexer": "ipython3",
   "version": "3.8.10"
  }
 },
 "nbformat": 4,
 "nbformat_minor": 5
}
