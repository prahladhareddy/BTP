{
 "cells": [
  {
   "cell_type": "code",
   "execution_count": 2,
   "id": "74ee4d99",
   "metadata": {},
   "outputs": [],
   "source": [
    "opt = ['NoOp','IMark','AbiHint','Put','PutI','WrTmp','Store','CAS','LLSC','MBE','Dirty','Exit','LoadG','StoreG']"
   ]
  },
  {
   "cell_type": "code",
   "execution_count": 8,
   "id": "7c2ddc3a",
   "metadata": {},
   "outputs": [
    {
     "name": "stdout",
     "output_type": "stream",
     "text": [
      "if expr.tag == 'Iex_Binder':\n",
      "\t__Binder(expr)\n",
      "if expr.tag == 'Iex_VECRET':\n",
      "\t__VECRET(expr)\n",
      "if expr.tag == 'Iex_GSPTR':\n",
      "\t__GSPTR(expr)\n",
      "if expr.tag == 'Iex_GetI':\n",
      "\t__GetI(expr)\n",
      "if expr.tag == 'Iex_RdTmp':\n",
      "\t__RdTmp(expr)\n",
      "if expr.tag == 'Iex_Get':\n",
      "\t__Get(expr)\n",
      "if expr.tag == 'Iex_Qop':\n",
      "\t__Qop(expr)\n",
      "if expr.tag == 'Iex_Triop':\n",
      "\t__Triop(expr)\n",
      "if expr.tag == 'Iex_Binop':\n",
      "\t__Binop(expr)\n",
      "if expr.tag == 'Iex_Unop':\n",
      "\t__Unop(expr)\n",
      "if expr.tag == 'Iex_Load':\n",
      "\t__Load(expr)\n",
      "if expr.tag == 'Iex_Const':\n",
      "\t__Const(expr)\n",
      "if expr.tag == 'Iex_ITE':\n",
      "\t__ITE(expr)\n",
      "if expr.tag == 'Iex_CCall':\n",
      "\t__CCall(expr)\n"
     ]
    }
   ],
   "source": [
    "for i in opt:\n",
    "    print(\"if expr.tag == 'Iex_%s':\"%(i))\n",
    "    print(\"\\t__%s(expr)\"%(i))"
   ]
  },
  {
   "cell_type": "code",
   "execution_count": 9,
   "id": "2724c988",
   "metadata": {},
   "outputs": [
    {
     "name": "stdout",
     "output_type": "stream",
     "text": [
      "def __Binder(self,expr):\n",
      "\traise Exception('Not Implimented Binder')\n",
      "\n",
      "def __VECRET(self,expr):\n",
      "\traise Exception('Not Implimented VECRET')\n",
      "\n",
      "def __GSPTR(self,expr):\n",
      "\traise Exception('Not Implimented GSPTR')\n",
      "\n",
      "def __GetI(self,expr):\n",
      "\traise Exception('Not Implimented GetI')\n",
      "\n",
      "def __RdTmp(self,expr):\n",
      "\traise Exception('Not Implimented RdTmp')\n",
      "\n",
      "def __Get(self,expr):\n",
      "\traise Exception('Not Implimented Get')\n",
      "\n",
      "def __Qop(self,expr):\n",
      "\traise Exception('Not Implimented Qop')\n",
      "\n",
      "def __Triop(self,expr):\n",
      "\traise Exception('Not Implimented Triop')\n",
      "\n",
      "def __Binop(self,expr):\n",
      "\traise Exception('Not Implimented Binop')\n",
      "\n",
      "def __Unop(self,expr):\n",
      "\traise Exception('Not Implimented Unop')\n",
      "\n",
      "def __Load(self,expr):\n",
      "\traise Exception('Not Implimented Load')\n",
      "\n",
      "def __Const(self,expr):\n",
      "\traise Exception('Not Implimented Const')\n",
      "\n",
      "def __ITE(self,expr):\n",
      "\traise Exception('Not Implimented ITE')\n",
      "\n",
      "def __CCall(self,expr):\n",
      "\traise Exception('Not Implimented CCall')\n",
      "\n"
     ]
    }
   ],
   "source": [
    "for i in opt:\n",
    "    print(\"def __%s(self,expr):\"%(i))\n",
    "    print(\"\\traise Exception('Not Implimented %s')\"%(i))\n",
    "    print()"
   ]
  },
  {
   "cell_type": "code",
   "execution_count": 10,
   "id": "cfe63a70",
   "metadata": {},
   "outputs": [],
   "source": [
    "opt = ['Binder','VECRET','GSPTR','GetI','RdTmp','Get','Qop','Triop','Binop','Unop','Load','Const','ITE','CCall']"
   ]
  },
  {
   "cell_type": "code",
   "execution_count": null,
   "id": "2c0cb03a",
   "metadata": {},
   "outputs": [],
   "source": []
  }
 ],
 "metadata": {
  "kernelspec": {
   "display_name": "Python 3 (ipykernel)",
   "language": "python",
   "name": "python3"
  },
  "language_info": {
   "codemirror_mode": {
    "name": "ipython",
    "version": 3
   },
   "file_extension": ".py",
   "mimetype": "text/x-python",
   "name": "python",
   "nbconvert_exporter": "python",
   "pygments_lexer": "ipython3",
   "version": "3.8.10"
  }
 },
 "nbformat": 4,
 "nbformat_minor": 5
}
