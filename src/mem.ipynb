{
 "cells": [
  {
   "cell_type": "code",
   "execution_count": 17,
   "id": "0d4ab634",
   "metadata": {},
   "outputs": [],
   "source": [
    "import angr\n",
    "import pyvex\n",
    "import archinfo\n",
    "from angrutils import *\n",
    "import networkx as nx"
   ]
  },
  {
   "cell_type": "code",
   "execution_count": 18,
   "id": "41d67c95",
   "metadata": {},
   "outputs": [],
   "source": [
    "class stmtInfo:\n",
    "    def __init__(self,stmt):\n",
    "        self.init()\n",
    "        self.__extract_stmt_info(stmt)\n",
    "    \n",
    "    def init(self):\n",
    "        self.tempAss = []\n",
    "        self.guestAss = []\n",
    "        self.memAss = False\n",
    "        self.memchng = []\n",
    "        self.usedTemps = []\n",
    "        self.usedguest = []\n",
    "        self.usedMem = []\n",
    "        self.addr = 0\n",
    "        self.memRead = False\n",
    "        self.condWrite = []\n",
    "        self.InstEnd = False\n",
    "        self.BlockEnd = False\n",
    "        self.exit = False\n",
    "        \n",
    "\n",
    "        \n",
    "    def __extract_stmt_info(self,stmt):\n",
    "        if stmt.tag == 'Ist_NoOp':\n",
    "            self.__NoOp(stmt)\n",
    "        if stmt.tag == 'Ist_IMark':\n",
    "            self.__IMark(stmt)\n",
    "        if stmt.tag == 'Ist_AbiHint':\n",
    "            self.__AbiHint(stmt)\n",
    "        if stmt.tag == 'Ist_Put':\n",
    "            self.__Put(stmt)\n",
    "        if stmt.tag == 'Ist_PutI':\n",
    "            self.__PutI(stmt)\n",
    "        if stmt.tag == 'Ist_WrTmp':\n",
    "            self.__WrTmp(stmt)\n",
    "        if stmt.tag == 'Ist_Store':\n",
    "            self.__Store(stmt)\n",
    "        if stmt.tag == 'Ist_CAS':\n",
    "            self.__CAS(stmt)\n",
    "        if stmt.tag == 'Ist_LLSC':\n",
    "            self.__LLSC(stmt)\n",
    "        if stmt.tag == 'Ist_MBE':\n",
    "            self.__MBE(stmt)\n",
    "        if stmt.tag == 'Ist_Dirty':\n",
    "            self.__Dirty(stmt)\n",
    "        if stmt.tag == 'Ist_Exit':\n",
    "            self.__Exit(stmt)\n",
    "        if stmt.tag == 'Ist_LoadG':\n",
    "            self.__LoadG(stmt)\n",
    "        if stmt.tag == 'Ist_StoreG':\n",
    "            self.__StoreG(stmt)\n",
    "\n",
    "    def __NoOp(self,stmt):\n",
    "        print(\"NoOp found\")\n",
    "\n",
    "    def __IMark(self,stmt):\n",
    "        self.addr = stmt.addr\n",
    "        self.InstEnd = True\n",
    "\n",
    "    def __AbiHint(self,stmt):\n",
    "        # raise Exception('Not Implimented AbiHint')\n",
    "        self.InstEnd = True\n",
    "        self.BlockEnd = True\n",
    "\n",
    "    def __Put(self,stmt):\n",
    "        self.guestAss.append(stmt.offset)\n",
    "        self.__parseData(stmt.data)\n",
    "        # raise Exception('Not Implimented Put')\n",
    "\n",
    "    def __PutI(self,stmt):\n",
    "        raise Exception('Not Implimented PutI')\n",
    "\n",
    "    def __WrTmp(self,stmt):\n",
    "        self.tempAss.append(stmt.tmp)\n",
    "        self.__parseData(stmt.data)\n",
    "        # raise Exception('Not Implimented WrTmp')\n",
    "\n",
    "    def __Store(self,stmt):\n",
    "        self.memAss = True\n",
    "        self.__parseData(stmt.addr)\n",
    "        self.__parseData(stmt.data)\n",
    "        if stmt.addr.tag == 'Iex_Const':\n",
    "            con = stmt.addr.con.value\n",
    "            add1 = (con//8)*8\n",
    "            self.memchng.append(add1)\n",
    "            if(con%8 !=0):\n",
    "                self.memchng.append(add1+8)\n",
    "        # raise Exception('Not Implimented Store')\n",
    "\n",
    "    def __CAS(self,stmt):  # compare and swap\n",
    "        raise Exception('Not Implimented CAS')\n",
    "\n",
    "    def __LLSC(self,stmt): # Either Load-Linked or Store-Conditional\n",
    "        raise Exception('Not Implimented LLSC')\n",
    "\n",
    "    def __MBE(self,stmt):  # memory bus event\n",
    "        raise Exception('Not Implimented MBE')\n",
    "\n",
    "    def __Dirty(self,stmt):\n",
    "        raise Exception('Not Implimented Dirty')\n",
    "\n",
    "    def __Exit(self,stmt):\n",
    "        self.__parseData(stmt.guard)\n",
    "        self.condWrite.append(stmt.offsIP)\n",
    "        self.InstEnd = True\n",
    "        self.BlockEnd = True\n",
    "        self.exit = True\n",
    "        \n",
    "        # raise Exception('Not Implimented Exit')\n",
    "\n",
    "    def __LoadG(self,stmt):\n",
    "        raise Exception('Not Implimented LoadG')\n",
    "\n",
    "    def __StoreG(self,stmt):\n",
    "        raise Exception('Not Implimented StoreG')\n",
    "\n",
    "    def __parseData(self,expr):\n",
    "        # print(expr.tag)\n",
    "        if expr.tag == 'Iex_Binder':\n",
    "            self.__Binder(expr)\n",
    "        if expr.tag == 'Iex_VECRET':\n",
    "            self.__VECRET(expr)\n",
    "        if expr.tag == 'Iex_GSPTR':\n",
    "            self.__GSPTR(expr)\n",
    "        if expr.tag == 'Iex_GetI':\n",
    "            self.__GetI(expr)\n",
    "        if expr.tag == 'Iex_RdTmp':\n",
    "            self.__RdTmp(expr)\n",
    "        if expr.tag == 'Iex_Get':\n",
    "            self.__Get(expr)\n",
    "        if expr.tag == 'Iex_Qop':\n",
    "            self.__Qop(expr)\n",
    "        if expr.tag == 'Iex_Triop':\n",
    "            self.__Triop(expr)\n",
    "        if expr.tag == 'Iex_Binop':\n",
    "            self.__Binop(expr)\n",
    "        if expr.tag == 'Iex_Unop':\n",
    "            self.__Unop(expr)\n",
    "        if expr.tag == 'Iex_Load':\n",
    "            self.__Load(expr)\n",
    "        if expr.tag == 'Iex_Const':\n",
    "            self. __Const(expr)\n",
    "        if expr.tag == 'Iex_ITE':\n",
    "            self.__ITE(expr)\n",
    "        if expr.tag == 'Iex_CCall':\n",
    "            self.__CCall(expr)\n",
    "\n",
    "    def __Binder(self,expr):\n",
    "    \traise Exception('Not Implimented Binder')\n",
    "\n",
    "    def __VECRET(self,expr):\n",
    "        raise Exception('Not Implimented VECRET')\n",
    "\n",
    "    def __GSPTR(self,expr):\n",
    "        raise Exception('Not Implimented GSPTR')\n",
    "\n",
    "    def __GetI(self,expr):\n",
    "        raise Exception('Not Implimented GetI')\n",
    "\n",
    "    def __RdTmp(self,expr):\n",
    "        # expr.pp()\n",
    "        self.usedTemps.append(expr.tmp)\n",
    "        # raise Exception('Not Implimented RdTmp')\n",
    "\n",
    "    def __Get(self,expr):\n",
    "        self.usedguest.append(expr.offset)\n",
    "        # raise Exception('Not Implimented Get')\n",
    "\n",
    "    def __Qop(self,expr):\n",
    "        for arg in expr.args:\n",
    "            self.__parseData(arg)\n",
    "        raise Exception('Not Implimented Qop')\n",
    "\n",
    "    def __Triop(self,expr):\n",
    "        for arg in expr.args:\n",
    "            self.__parseData(arg)\n",
    "        raise Exception('Not Implimented Triop')\n",
    "\n",
    "    def __Binop(self,expr):\n",
    "#         print(expr.op)\n",
    "        for arg in expr.args:\n",
    "            self.__parseData(arg)\n",
    "        # raise Exception('Not Implimented Binop')\n",
    "\n",
    "    def __Unop(self,expr):\n",
    "        self.__parseData(expr.args[0])\n",
    "        # raise Exception('Not Implimented Unop')\n",
    "\n",
    "    def __Load(self,expr):\n",
    "        self.memRead = True\n",
    "        self.__parseData(expr.addr)\n",
    "#         print(expr.type)\n",
    "        if expr.addr.tag == 'Iex_Const':\n",
    "            con = expr.addr.con.value\n",
    "            add1 = (con//8)*8\n",
    "            self.usedMem.append(add1)\n",
    "            if(con%8 !=0):\n",
    "                self.usedMem.append(add1+8)\n",
    "        # raise Exception('Not Implimented Load')\n",
    "\n",
    "    def __Const(self,expr):\n",
    "#         print(\"cons\")\n",
    "#         print(expr.con.value)\n",
    "#         print(expr.result_type(self.tyenv))\n",
    "        pass\n",
    "        # raise Exception('Not Implimented Const')\n",
    "\n",
    "    def __ITE(self,expr):\n",
    "        raise Exception('Not Implimented ITE')\n",
    "\n",
    "    def __CCall(self,expr):\n",
    "        for arg in expr.args:\n",
    "            self.__parseData(arg)\n",
    "        # raise Exception('Not Implimented CCall')"
   ]
  },
  {
   "cell_type": "code",
   "execution_count": 19,
   "id": "450451a5",
   "metadata": {},
   "outputs": [],
   "source": [
    "def dfsguest(n,cfg,dfg,g,vis,addr):\n",
    "    if n in vis:\n",
    "        return\n",
    "    vis.append(n)\n",
    "    try:\n",
    "        stmts = n.block.vex.statements\n",
    "    except:\n",
    "        stmts = []\n",
    "    addr1 = 0\n",
    "    for stmt in stmts:\n",
    "        if stmt.tag == 'Ist_IMark':\n",
    "            addr1 = stmt.addr\n",
    "        info = stmtInfo(stmt)\n",
    "        if g in info.usedguest:\n",
    "            dfg.add_edge(hex(addr),hex(addr1))\n",
    "            ob = dfg.adj[hex(addr)][hex(addr1)]\n",
    "            ob[len(ob)] = {\"kind\" : \"dep\",\"passby\" : \"guest\", \"num\" : g}\n",
    "        if g in info.guestAss:\n",
    "            dfg.add_edge(hex(addr),hex(addr1))\n",
    "            ob = dfg.adj[hex(addr)][hex(addr1)]\n",
    "            ob[len(ob)] = {\"kind\" : \"kill\",\"passby\" : \"guest\", \"num\" : g}\n",
    "            return\n",
    "    for nei in cfg.graph.successors(n):\n",
    "        dfsguest(nei,cfg,dfg,g,vis,addr) "
   ]
  },
  {
   "cell_type": "code",
   "execution_count": 20,
   "id": "229ec938",
   "metadata": {},
   "outputs": [],
   "source": [
    "def dfscontrolflow(n,cfg,dfg,vis,addr):\n",
    "    if n in vis:\n",
    "        return\n",
    "    vis.append(n)\n",
    "    try:\n",
    "        stmts = n.block.vex.statements\n",
    "    except:\n",
    "        stmts = []\n",
    "    addr1 = 0\n",
    "    for stmt in stmts:\n",
    "        if stmt.tag == 'Ist_IMark':\n",
    "            addr1 = stmt.addr\n",
    "            dfg.add_edge(hex(addr),hex(addr1))\n",
    "            ob = dfg.adj[hex(addr)][hex(addr1)]\n",
    "            ob[len(ob)] = {\"kind\" : \"dep\",\"passby\" : \"cond\", \"num\" : 0}\n",
    "    for nei in cfg.graph.successors(n):\n",
    "        dfscontrolflow(nei,cfg,dfg,vis,addr) "
   ]
  },
  {
   "cell_type": "code",
   "execution_count": 21,
   "id": "6e6536a9",
   "metadata": {},
   "outputs": [],
   "source": [
    "def dfs3(n,cfg,dfg,vis,addr):\n",
    "    if n in vis:\n",
    "        return\n",
    "    vis.append(n)\n",
    "    try:\n",
    "        stmts = n.block.vex.statements\n",
    "    except:\n",
    "        stmts = []\n",
    "    addr1 = 0\n",
    "    for stmt in stmts:\n",
    "        if stmt.tag == 'Ist_IMark':\n",
    "            addr1 = stmt.addr\n",
    "        info = stmtInfo(stmt)\n",
    "        if info.memRead:\n",
    "            dfg.add_edge(hex(addr),hex(addr1))\n",
    "            ob = dfg.adj[hex(addr)][hex(addr1)]\n",
    "            ob[len(ob)] = {\"kind\" : \"dep\",\"passby\" : \"memweek\", \"num\" : 0}\n",
    "#         if info.memAss:\n",
    "#             dfg.add_edge(hex(addr),hex(addr1))\n",
    "#             ob = dfg.adj[hex(addr)][hex(addr1)]\n",
    "#             ob[len(ob)] = {\"kind\" : \"kill\",\"passby\" : \"mem\", \"num\" : 0}\n",
    "#             return\n",
    "    for nei in cfg.graph.successors(n):\n",
    "        dfs3(nei,cfg,dfg,vis,addr) "
   ]
  },
  {
   "cell_type": "code",
   "execution_count": 22,
   "id": "31af236e",
   "metadata": {},
   "outputs": [],
   "source": [
    "def dfsglb(n,cfg,dfg,add,vis,addr):\n",
    "    if n in vis:\n",
    "        return\n",
    "    vis.append(n)\n",
    "    try:\n",
    "        stmts = n.block.vex.statements\n",
    "    except:\n",
    "        stmts = []\n",
    "    addr1 = 0\n",
    "    for stmt in stmts:\n",
    "        if stmt.tag == 'Ist_IMark':\n",
    "            addr1 = stmt.addr\n",
    "        info = stmtInfo(stmt)\n",
    "        if add in info.usedMem:\n",
    "            dfg.add_edge(hex(addr),hex(addr1))\n",
    "            ob = dfg.adj[hex(addr)][hex(addr1)]\n",
    "            ob[len(ob)] = {\"kind\" : \"dep\",\"passby\" : \"mem\", \"num\" : hex(add)}\n",
    "        if add in info.memchng:\n",
    "            dfg.add_edge(hex(addr),hex(addr1))\n",
    "            ob = dfg.adj[hex(addr)][hex(addr1)]\n",
    "            ob[len(ob)] = {\"kind\" : \"kill\",\"passby\" : \"mem\", \"num\" : hex(add)}\n",
    "            return\n",
    "    for nei in cfg.graph.successors(n):\n",
    "        dfsglb(nei,cfg,dfg,add,vis,addr) "
   ]
  },
  {
   "cell_type": "code",
   "execution_count": 23,
   "id": "642663ad",
   "metadata": {},
   "outputs": [],
   "source": [
    "def add_edges(dfg,cfg,nodes,stmts,node_ind,stmt_ind,f):\n",
    "    addr = stmts[stmt_ind].addr\n",
    "    dfg.add_node(hex(addr))\n",
    "    addr1 = 0\n",
    "    stmt_ind+=1\n",
    "    guest = []\n",
    "    temp = []\n",
    "    memRight = False\n",
    "    memRead = False\n",
    "    memChng = []\n",
    "    memreadlist = []\n",
    "    inst_comp = False\n",
    "    for ind in range(stmt_ind,len(stmts)):\n",
    "        if not(inst_comp) :\n",
    "            info = stmtInfo(stmts[ind])\n",
    "            guest.extend(info.guestAss)\n",
    "            temp.extend(info.tempAss)\n",
    "            memRight |= info.memAss\n",
    "            memChng.extend(info.memchng)\n",
    "            if(info.exit == True):\n",
    "                for n in cfg.graph.successors(nodes[node_ind]):\n",
    "                    dfscontrolflow(n,cfg,dfg,[],addr)       \n",
    "            if stmts[ind].tag == 'Ist_IMark':\n",
    "                inst_comp = True\n",
    "                addr1 = info.addr\n",
    "        else:\n",
    "            info = stmtInfo(stmts[ind])\n",
    "            if stmts[ind].tag == 'Ist_IMark':\n",
    "                addr1 = info.addr\n",
    "            for g in guest:\n",
    "                if g in info.usedguest:\n",
    "                    dfg.add_edge(hex(addr),hex(addr1))\n",
    "                    ob = dfg.adj[hex(addr)][hex(addr1)]\n",
    "                    ob[len(ob)] = {\"kind\" : \"dep\",\"passby\": \"guest\", \"num\" : g}\n",
    "                if g in info.guestAss:\n",
    "                    guest.remove(g)\n",
    "                    dfg.add_edge(hex(addr),hex(addr1))\n",
    "                    ob = dfg.adj[hex(addr)][hex(addr1)]\n",
    "                    ob[len(ob)] = {\"kind\" : \"kill\",\"passby\" : \"guest\", \"num\" : g}\n",
    "            for t in temp:\n",
    "                if t in info.usedTemps:\n",
    "                    dfg.add_edge(hex(addr),hex(addr1))\n",
    "                    ob = dfg.adj[hex(addr)][hex(addr1)]\n",
    "                    ob[len(ob)] = {\"kind\" : \"dep\",\"passby\" : \"temp\", \"num\" : t}\n",
    "                if t in info.tempAss:\n",
    "                    temp.remove(t)\n",
    "                    dfg.add_edge(hex(addr),hex(addr1))\n",
    "                    ob = dfg.adj[hex(addr)][hex(addr1)]\n",
    "                    ob[len(ob)] = {\"kind\" : \"kill\",\"passby\" : \"temp\", \"num\" : t}\n",
    "            for add in memChng:\n",
    "                if add in info.usedMem:\n",
    "                    dfg.add_edge(hex(addr),hex(addr1))\n",
    "                    ob = dfg.adj[hex(addr)][hex(addr1)]\n",
    "                    ob[len(ob)] = {\"kind\" : \"dep\",\"passby\" : \"mem\", \"num\" : hex(add)}\n",
    "                if add in info.memchng:\n",
    "                    memChng.remove(add)\n",
    "                    dfg.add_edge(hex(addr),hex(addr1))\n",
    "                    ob = dfg.adj[hex(addr)][hex(addr1)]\n",
    "                    ob[len(ob)] = {\"kind\" : \"kill\",\"passby\" : \"mem\", \"num\" : hex(add)}\n",
    "                    \n",
    "            if info.memRead and memRight and f:\n",
    "                dfg.add_edge(hex(addr),hex(addr1))\n",
    "                ob = dfg.adj[hex(addr)][hex(addr1)]\n",
    "                ob[len(ob)] = {\"kind\" : \"dep\",\"passby\" : \"memweak\", \"num\" : 0}\n",
    "                \n",
    "            if info.memAss and memRight and f:\n",
    "                dfg.add_edge(hex(addr),hex(addr1))\n",
    "                ob = dfg.adj[hex(addr)][hex(addr1)]\n",
    "                memRight = False\n",
    "                ob[len(ob)] = {\"kind\" : \"kill\",\"passby\" : \"memweak\", \"num\" : 0}\n",
    "            \n",
    "#     print(addr,memChng)\n",
    "    for g in guest:\n",
    "        vis = []\n",
    "        for n in cfg.graph.successors(nodes[node_ind]):\n",
    "            dfsguest(n,cfg,dfg,g,vis,addr)\n",
    "            \n",
    "    for add in memChng:\n",
    "        vis = []\n",
    "        for n in cfg.graph.successors(nodes[node_ind]):\n",
    "            dfsglb(n,cfg,dfg,add,vis,addr)\n",
    "            \n",
    "    if f and memRight:\n",
    "        vis = []\n",
    "        for n in cfg.graph.successors(nodes[node_ind]):\n",
    "            dfs3(n,cfg,dfg,vis,addr)"
   ]
  },
  {
   "cell_type": "code",
   "execution_count": 24,
   "id": "ad7f1da8",
   "metadata": {},
   "outputs": [],
   "source": [
    "def get_dfg(cfg,f):\n",
    "    nodes = list(cfg.graph.nodes)\n",
    "    dfg = nx.DiGraph()\n",
    "    for node_ind in range(0,len(nodes)):\n",
    "        try:\n",
    "            stmts = list(nodes[node_ind].block.vex.statements)\n",
    "        except:\n",
    "            continue\n",
    "        for stmt_ind in range(0,len(stmts)):\n",
    "            if stmts[stmt_ind].tag == 'Ist_IMark':\n",
    "                add_edges(dfg,cfg,nodes,stmts,node_ind,stmt_ind,f)\n",
    "    return dfg"
   ]
  },
  {
   "cell_type": "code",
   "execution_count": 25,
   "id": "a3aabaa6",
   "metadata": {},
   "outputs": [],
   "source": [
    "def getPath(dfg,add1,add2,vis):\n",
    "    if add1 in vis:\n",
    "        return(None)\n",
    "    vis.append(add1)\n",
    "    if add1 == add2:\n",
    "        return(add1)\n",
    "    for e in dfg.adj[add1]:\n",
    "        for ind in dfg.adj[add1][e]:\n",
    "            if dfg.adj[add1][e][ind]['kind'] == 'dep':\n",
    "                s1 = dfg.adj[add1][e][ind]['passby']\n",
    "                s2 = str(dfg.adj[add1][e][ind]['num'])\n",
    "                s = getPath(dfg,e,add2,vis)\n",
    "                if s!= None:\n",
    "                    return(add1+'\\n'+s1+s2+\" \"+s)\n",
    "    return None"
   ]
  },
  {
   "cell_type": "code",
   "execution_count": 26,
   "id": "ba67888b",
   "metadata": {},
   "outputs": [],
   "source": [
    "def printedges(dfg,addr):\n",
    "    x = dfg.adj[addr];\n",
    "    for a in x:\n",
    "        for o in x[a]:\n",
    "            print(a,x[a][o]['kind'],x[a][o]['passby'],x[a][o]['num'])"
   ]
  },
  {
   "cell_type": "code",
   "execution_count": 27,
   "id": "a3906155",
   "metadata": {},
   "outputs": [],
   "source": [
    "p = angr.Project(\"../test/onlyglobal/onlyglobal.exe\",auto_load_libs=False)\n",
    "start_state = p.factory.entry_state()\n",
    "cfg = p.analyses.CFGEmulated(fail_fast=True, starts=[p.entry], initial_state=start_state)\n",
    "plot_cfg(cfg, \"../test/onlyglobal/onlyglobalvex\", vexinst=True, remove_imports=True, remove_path_terminator=True)\n",
    "plot_cfg(cfg, \"../test/onlyglobal/onlyglobalasm\", asminst=True, remove_imports=True, remove_path_terminator=True)\n",
    "dfg = get_dfg(cfg,False)"
   ]
  },
  {
   "cell_type": "code",
   "execution_count": 28,
   "id": "50c3992c",
   "metadata": {},
   "outputs": [
    {
     "data": {
      "text/plain": [
       "NodeView(('0x401000', '0x401008', '0x401032', '0x401035', '0x401045', '0x401010', '0x401020', '0x40102a', '0x401018', '0x401041', '0x401057', '0x401037', '0x40104a', '0x40104f', '0x401052', '0x401059', '0x40105e', '0x401063', '0x401068', '0x40106b', '0x40103f'))"
      ]
     },
     "execution_count": 28,
     "metadata": {},
     "output_type": "execute_result"
    }
   ],
   "source": [
    "dfg.nodes"
   ]
  },
  {
   "cell_type": "code",
   "execution_count": 29,
   "id": "43da8865",
   "metadata": {},
   "outputs": [],
   "source": [
    "# printedges(dfg,'0x401014')"
   ]
  },
  {
   "cell_type": "code",
   "execution_count": 30,
   "id": "74bb6a4f",
   "metadata": {},
   "outputs": [
    {
     "name": "stdout",
     "output_type": "stream",
     "text": [
      "0x401008\n",
      "temp12 0x401035\n",
      "cond0 0x401041\n",
      "temp0 0x40104f\n"
     ]
    }
   ],
   "source": [
    "print(getPath(dfg,'0x401008','0x40104f',[]))"
   ]
  },
  {
   "cell_type": "code",
   "execution_count": 31,
   "id": "78f0177e",
   "metadata": {},
   "outputs": [
    {
     "name": "stderr",
     "output_type": "stream",
     "text": [
      "WARNING | 2022-03-20 11:36:48,098 | cle.backends.externs | Symbol was allocated without a known size; emulation may fail if it is used non-opaquely: _ZSt4cout\n",
      "WARNING | 2022-03-20 11:36:48,099 | cle.backends.externs | Symbol was allocated without a known size; emulation may fail if it is used non-opaquely: _ZSt3cin\n",
      "WARNING | 2022-03-20 11:36:48,100 | cle.loader | The main binary is a position-independent executable. It is being loaded with a base address of 0x400000.\n",
      "WARNING | 2022-03-20 11:36:48,100 | cle.loader | For more information about \"Symbol was allocated without a known size\", see https://docs.angr.io/extending-angr/environment#simdata\n"
     ]
    }
   ],
   "source": [
    "# basic\n",
    "p = angr.Project(\"../test/onecpp/one.exe\",auto_load_libs=False)\n",
    "start_state = p.factory.entry_state()\n",
    "cfg = p.analyses.CFGEmulated(fail_fast=True, starts=[p.entry], initial_state=start_state)\n",
    "plot_cfg(cfg, \"../test/onecpp/onevex\", vexinst=True, remove_imports=True, remove_path_terminator=True)\n",
    "plot_cfg(cfg, \"../test/onecpp/oneasm\", asminst=True, remove_imports=True, remove_path_terminator=True)\n",
    "dfg = get_dfg(cfg,False)"
   ]
  },
  {
   "cell_type": "code",
   "execution_count": 32,
   "id": "074be510",
   "metadata": {},
   "outputs": [],
   "source": [
    "b = p.factory.block(int('0x4011c9',0))"
   ]
  },
  {
   "cell_type": "code",
   "execution_count": 33,
   "id": "dbcc5636",
   "metadata": {},
   "outputs": [
    {
     "name": "stdout",
     "output_type": "stream",
     "text": [
      "        _Z3funi:\n",
      "4011c9  endbr64 \n",
      "4011cd  push    rbp\n",
      "4011ce  mov     rbp, rsp\n",
      "4011d1  sub     rsp, 0x20\n",
      "4011d5  mov     dword ptr [rbp-0x14], edi\n",
      "4011d8  mov     rax, qword ptr  fs:[0x28]\n",
      "4011e1  mov     qword ptr [rbp-0x8], rax\n",
      "4011e5  xor     eax, eax\n",
      "4011e7  lea     rax, [rbp-0xc]\n",
      "4011eb  mov     rsi, rax\n",
      "4011ee  lea     rdi, [_ZSt3cin@@GLIBCXX_3.4]\n",
      "4011f5  call    std::istream::operator>>\n",
      "\n",
      "        _Z3funi:\n",
      "4011c9  endbr64 \n",
      "4011cd  push    rbp\n",
      "4011ce  mov     rbp, rsp\n",
      "4011d1  sub     rsp, 0x20\n",
      "4011d5  mov     dword ptr [rbp-0x14], edi\n",
      "4011d8  mov     rax, qword ptr  fs:[0x28]\n",
      "4011e1  mov     qword ptr [rbp-0x8], rax\n",
      "4011e5  xor     eax, eax\n",
      "4011e7  lea     rax, [rbp-0xc]\n",
      "4011eb  mov     rsi, rax\n",
      "4011ee  lea     rdi, [_ZSt3cin@@GLIBCXX_3.4]\n",
      "4011f5  call    std::istream::operator>>\n"
     ]
    }
   ],
   "source": [
    "b.pp()"
   ]
  },
  {
   "cell_type": "code",
   "execution_count": 34,
   "id": "dfc479a6",
   "metadata": {},
   "outputs": [],
   "source": [
    "bvex = b.vex"
   ]
  },
  {
   "cell_type": "code",
   "execution_count": 35,
   "id": "d8a84a4a",
   "metadata": {},
   "outputs": [
    {
     "name": "stdout",
     "output_type": "stream",
     "text": [
      "IRSB {\n",
      "   t0:Ity_I64 t1:Ity_I64 t2:Ity_I64 t3:Ity_I64 t4:Ity_I64 t5:Ity_I64 t6:Ity_I64 t7:Ity_I64 t8:Ity_I32 t9:Ity_I32 t10:Ity_I32 t11:Ity_I64 t12:Ity_I64 t13:Ity_I64 t14:Ity_I64 t15:Ity_I64 t16:Ity_I64 t17:Ity_I64 t18:Ity_I64 t19:Ity_I64 t20:Ity_I32 t21:Ity_I64 t22:Ity_I64 t23:Ity_I64 t24:Ity_I64 t25:Ity_I64 t26:Ity_I64 t27:Ity_I64 t28:Ity_I64 t29:Ity_I32 t30:Ity_I64 t31:Ity_I32 t32:Ity_I64 t33:Ity_I64 t34:Ity_I64 t35:Ity_I64 t36:Ity_I64 t37:Ity_I64 t38:Ity_I64 t39:Ity_I64 t40:Ity_I64 t41:Ity_I64\n",
      "\n",
      "   00 | ------ IMark(0x4011c9, 4, 0) ------\n",
      "   01 | PUT(rip) = 0x00000000004011cd\n",
      "   02 | ------ IMark(0x4011cd, 1, 0) ------\n",
      "   03 | t0 = GET:I64(rbp)\n",
      "   04 | t16 = GET:I64(rsp)\n",
      "   05 | t15 = Sub64(t16,0x0000000000000008)\n",
      "   06 | PUT(rsp) = t15\n",
      "   07 | STle(t15) = t0\n",
      "   08 | ------ IMark(0x4011ce, 3, 0) ------\n",
      "   09 | PUT(rbp) = t15\n",
      "   10 | ------ IMark(0x4011d1, 4, 0) ------\n",
      "   11 | t2 = Sub64(t15,0x0000000000000020)\n",
      "   12 | PUT(rsp) = t2\n",
      "   13 | PUT(rip) = 0x00000000004011d5\n",
      "   14 | ------ IMark(0x4011d5, 3, 0) ------\n",
      "   15 | t18 = Add64(t15,0xffffffffffffffec)\n",
      "   16 | t21 = GET:I64(rdi)\n",
      "   17 | t20 = 64to32(t21)\n",
      "   18 | STle(t18) = t20\n",
      "   19 | PUT(rip) = 0x00000000004011d8\n",
      "   20 | ------ IMark(0x4011d8, 9, 0) ------\n",
      "   21 | t23 = GET:I64(fs)\n",
      "   22 | t22 = Add64(0x0000000000000028,t23)\n",
      "   23 | t24 = LDle:I64(t22)\n",
      "   24 | PUT(rip) = 0x00000000004011e1\n",
      "   25 | ------ IMark(0x4011e1, 4, 0) ------\n",
      "   26 | t25 = Add64(t15,0xfffffffffffffff8)\n",
      "   27 | STle(t25) = t24\n",
      "   28 | ------ IMark(0x4011e5, 2, 0) ------\n",
      "   29 | PUT(cc_op) = 0x0000000000000013\n",
      "   30 | PUT(cc_dep1) = 0x0000000000000000\n",
      "   31 | PUT(cc_dep2) = 0x0000000000000000\n",
      "   32 | ------ IMark(0x4011e7, 4, 0) ------\n",
      "   33 | t35 = Add64(t15,0xfffffffffffffff4)\n",
      "   34 | PUT(rax) = t35\n",
      "   35 | ------ IMark(0x4011eb, 3, 0) ------\n",
      "   36 | PUT(rsi) = t35\n",
      "   37 | ------ IMark(0x4011ee, 7, 0) ------\n",
      "   38 | PUT(rdi) = 0x0000000000404160\n",
      "   39 | PUT(rip) = 0x00000000004011f5\n",
      "   40 | ------ IMark(0x4011f5, 5, 0) ------\n",
      "   41 | t38 = Sub64(t2,0x0000000000000008)\n",
      "   42 | PUT(rsp) = t38\n",
      "   43 | STle(t38) = 0x00000000004011fa\n",
      "   44 | t40 = Sub64(t38,0x0000000000000080)\n",
      "   45 | ====== AbiHint(0xt40, 128, 0x0000000000401090) ======\n",
      "   NEXT: PUT(rip) = 0x0000000000401090; Ijk_Call\n",
      "}\n"
     ]
    }
   ],
   "source": [
    "bvex.pp()"
   ]
  },
  {
   "cell_type": "code",
   "execution_count": 36,
   "id": "ac1d471b",
   "metadata": {},
   "outputs": [],
   "source": [
    "l = []\n",
    "nodes = list(cfg.graph.nodes)\n",
    "dfg = nx.DiGraph()\n",
    "for node_ind in range(0,len(nodes)):\n",
    "    stmts = []\n",
    "    try:\n",
    "        stmts = list(nodes[node_ind].block.vex.statements)\n",
    "    except:\n",
    "        continue\n",
    "    if len(stmts) > 0:\n",
    "        if stmts[0].addr == int('0x4011c9',0):\n",
    "            l.append(nodes[node_ind])"
   ]
  },
  {
   "cell_type": "code",
   "execution_count": 37,
   "id": "56b4144e",
   "metadata": {},
   "outputs": [
    {
     "data": {
      "text/plain": [
       "[<CFGENode _Z3funi 0x4011c9[49]>, <CFGENode _Z3funi 0x4011c9[49]>]"
      ]
     },
     "execution_count": 37,
     "metadata": {},
     "output_type": "execute_result"
    }
   ],
   "source": [
    "l"
   ]
  },
  {
   "cell_type": "code",
   "execution_count": 38,
   "id": "377f2b2c",
   "metadata": {},
   "outputs": [
    {
     "data": {
      "text/plain": [
       "[<CFGENode  0x401090[11]>, <CFGENode _Z3funi+0x31 0x4011fa[23]>]"
      ]
     },
     "execution_count": 38,
     "metadata": {},
     "output_type": "execute_result"
    }
   ],
   "source": [
    "list(cfg.graph.successors(l[1]))"
   ]
  },
  {
   "cell_type": "code",
   "execution_count": 39,
   "id": "e5847242",
   "metadata": {},
   "outputs": [],
   "source": [
    "l2 = list(cfg.graph.successors(l[0]))"
   ]
  },
  {
   "cell_type": "code",
   "execution_count": 40,
   "id": "cc4d1d4e",
   "metadata": {},
   "outputs": [
    {
     "data": {
      "text/plain": [
       "[<CFGENode  0x401090[11]>, <CFGENode _Z3funi+0x31 0x4011fa[23]>]"
      ]
     },
     "execution_count": 40,
     "metadata": {},
     "output_type": "execute_result"
    }
   ],
   "source": [
    "l2"
   ]
  },
  {
   "cell_type": "code",
   "execution_count": 41,
   "id": "c9c91db1",
   "metadata": {},
   "outputs": [],
   "source": [
    "l3 = list(cfg.graph.successors(l2[0]))"
   ]
  },
  {
   "cell_type": "code",
   "execution_count": 42,
   "id": "0e2f1c7c",
   "metadata": {},
   "outputs": [
    {
     "data": {
      "text/plain": [
       "[<CFGENode std::istream::operator>>(int&) 0x500020>]"
      ]
     },
     "execution_count": 42,
     "metadata": {},
     "output_type": "execute_result"
    }
   ],
   "source": [
    "l3"
   ]
  },
  {
   "cell_type": "code",
   "execution_count": 43,
   "id": "c8816341",
   "metadata": {},
   "outputs": [],
   "source": [
    "l4 = list(cfg.graph.successors(l3[0]))"
   ]
  },
  {
   "cell_type": "code",
   "execution_count": 44,
   "id": "c2115155",
   "metadata": {},
   "outputs": [
    {
     "data": {
      "text/plain": [
       "[<CFGENode _Z3funi+0x31 0x4011fa[23]>]"
      ]
     },
     "execution_count": 44,
     "metadata": {},
     "output_type": "execute_result"
    }
   ],
   "source": [
    "l4"
   ]
  },
  {
   "cell_type": "code",
   "execution_count": 45,
   "id": "3833f67d",
   "metadata": {},
   "outputs": [],
   "source": [
    "l5 = list(cfg.graph.successors(l4[0]))"
   ]
  },
  {
   "cell_type": "code",
   "execution_count": 46,
   "id": "5bd1c301",
   "metadata": {},
   "outputs": [
    {
     "data": {
      "text/plain": [
       "[<CFGENode _Z3funi+0x4d 0x401216[2]>, <CFGENode _Z3funi+0x48 0x401211[5]>]"
      ]
     },
     "execution_count": 46,
     "metadata": {},
     "output_type": "execute_result"
    }
   ],
   "source": [
    "l5"
   ]
  },
  {
   "cell_type": "code",
   "execution_count": 47,
   "id": "62c3dd55",
   "metadata": {},
   "outputs": [],
   "source": [
    "l6 = list(cfg.graph.successors(l5[0]))"
   ]
  },
  {
   "cell_type": "code",
   "execution_count": 48,
   "id": "81683395",
   "metadata": {},
   "outputs": [
    {
     "data": {
      "text/plain": [
       "AtlasView({<CFGENode main+0x38 0x4012a6[14]>: {'jumpkind': 'Ijk_Ret', 'stmt_idx': -2, 'ins_addr': 4198935}})"
      ]
     },
     "execution_count": 48,
     "metadata": {},
     "output_type": "execute_result"
    }
   ],
   "source": [
    "cfg.graph.adj[l5[0]]"
   ]
  },
  {
   "cell_type": "code",
   "execution_count": 49,
   "id": "b4b9f4b4",
   "metadata": {},
   "outputs": [
    {
     "data": {
      "text/plain": [
       "[<CFGENode main+0x38 0x4012a6[14]>]"
      ]
     },
     "execution_count": 49,
     "metadata": {},
     "output_type": "execute_result"
    }
   ],
   "source": [
    "l6"
   ]
  },
  {
   "cell_type": "code",
   "execution_count": 50,
   "id": "4efac47b",
   "metadata": {},
   "outputs": [
    {
     "data": {
      "text/plain": [
       "AtlasView({<CFGENode  0x401090[11]>: {'jumpkind': 'Ijk_Call', 'stmt_idx': -2, 'ins_addr': 4198901}, <CFGENode _Z3funi+0x31 0x4011fa[23]>: {'jumpkind': 'Ijk_FakeRet', 'stmt_idx': -2, 'ins_addr': 4198901}})"
      ]
     },
     "execution_count": 50,
     "metadata": {},
     "output_type": "execute_result"
    }
   ],
   "source": [
    "cfg.graph.adj[l[1]]"
   ]
  },
  {
   "cell_type": "code",
   "execution_count": 16,
   "id": "b03926cd",
   "metadata": {},
   "outputs": [
    {
     "name": "stdout",
     "output_type": "stream",
     "text": [
      "IRSB {\n",
      "   t0:Ity_I64\n",
      "\n",
      "   00 | ------ IMark(0x400400, 1, 0) ------\n",
      "   01 | ------ IMark(0x400401, 1, 0) ------\n",
      "   02 | ------ IMark(0x400402, 1, 0) ------\n",
      "   03 | ------ IMark(0x400403, 1, 0) ------\n",
      "   04 | ------ IMark(0x400404, 1, 0) ------\n",
      "   NEXT: PUT(rip) = 0x0000000000400405; Ijk_Boring\n",
      "}\n",
      "0x0000000000400405\n",
      "Ijk_Boring\n",
      "0x0000000000400405\n",
      "------ IMark(0x400400, 1, 0) ------\n",
      "------ IMark(0x400401, 1, 0) ------\n",
      "------ IMark(0x400402, 1, 0) ------\n",
      "------ IMark(0x400403, 1, 0) ------\n",
      "------ IMark(0x400404, 1, 0) ------\n",
      "['Ity_I64']\n",
      "Ity_I64\n"
     ]
    }
   ],
   "source": [
    "# import pyvex\n",
    "# import archinfo\n",
    "\n",
    "# # translate an AMD64 basic block (of nops) at 0x400400 into VEX\n",
    "# irsb = pyvex.lift(b\"\\x90\\x90\\x90\\x90\\x90\", 0x400400, archinfo.ArchAMD64())\n",
    "\n",
    "# # pretty-print the basic block\n",
    "# irsb.pp()\n",
    "\n",
    "# # this is the IR Expression of the jump target of the unconditional exit at the end of the basic block\n",
    "# print(irsb.next)\n",
    "\n",
    "# # this is the type of the unconditional exit (i.e., a call, ret, syscall, etc)\n",
    "# print(irsb.jumpkind)\n",
    "\n",
    "# # you can also pretty-print it\n",
    "# irsb.next.pp()\n",
    "\n",
    "# # iterate through each statement and print all the statements\n",
    "# for stmt in irsb.statements:\n",
    "#     stmt.pp()\n",
    "\n",
    "# # pretty-print the IR expression representing the data, and the *type* of that IR expression written by every store statement\n",
    "# import pyvex\n",
    "# for stmt in irsb.statements:\n",
    "#     if isinstance(stmt, pyvex.IRStmt.Store):\n",
    "#         print(\"Data:\", end=\"\")\n",
    "#         stmt.data.pp()\n",
    "#         print(\"\")\n",
    "\n",
    "#         print(\"Type:\", end=\"\")\n",
    "#         print(stmt.data.result_type)\n",
    "#         print(\"\")\n",
    "\n",
    "# # pretty-print the condition and jump target of every conditional exit from the basic block\n",
    "# for stmt in irsb.statements:\n",
    "#     if isinstance(stmt, pyvex.IRStmt.Exit):\n",
    "#         print(\"Condition:\", end=\"\")\n",
    "#         stmt.guard.pp()\n",
    "#         print(\"\")\n",
    "\n",
    "#         print(\"Target:\", end=\"\")\n",
    "#         stmt.dst.pp()\n",
    "#         print(\"\")\n",
    "\n",
    "# # these are the types of every temp in the IRSB\n",
    "# print(irsb.tyenv.types)\n",
    "\n",
    "# # here is one way to get the type of temp 0\n",
    "# print(irsb.tyenv.types[0])"
   ]
  },
  {
   "cell_type": "code",
   "execution_count": null,
   "id": "c6306b09",
   "metadata": {},
   "outputs": [],
   "source": []
  }
 ],
 "metadata": {
  "kernelspec": {
   "display_name": "Python 3 (ipykernel)",
   "language": "python",
   "name": "python3"
  },
  "language_info": {
   "codemirror_mode": {
    "name": "ipython",
    "version": 3
   },
   "file_extension": ".py",
   "mimetype": "text/x-python",
   "name": "python",
   "nbconvert_exporter": "python",
   "pygments_lexer": "ipython3",
   "version": "3.8.10"
  }
 },
 "nbformat": 4,
 "nbformat_minor": 5
}
