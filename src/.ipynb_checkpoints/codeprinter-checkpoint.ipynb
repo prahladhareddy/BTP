{
 "cells": [
  {
   "cell_type": "code",
   "execution_count": 2,
   "id": "74ee4d99",
   "metadata": {},
   "outputs": [],
   "source": [
    "opt = ['NoOp','IMark','AbiHint','Put','PutI','WrTmp','Store','CAS','LLSC','MBE','Dirty','Exit','LoadG','StoreG']"
   ]
  },
  {
   "cell_type": "code",
   "execution_count": 5,
   "id": "7c2ddc3a",
   "metadata": {},
   "outputs": [
    {
     "name": "stdout",
     "output_type": "stream",
     "text": [
      "if stmt.tag == 'Ist_NoOp':\n",
      "\tNoOp(stmt,instAddr,addr)\n",
      "if stmt.tag == 'Ist_IMark':\n",
      "\tIMark(stmt,instAddr,addr)\n",
      "if stmt.tag == 'Ist_AbiHint':\n",
      "\tAbiHint(stmt,instAddr,addr)\n",
      "if stmt.tag == 'Ist_Put':\n",
      "\tPut(stmt,instAddr,addr)\n",
      "if stmt.tag == 'Ist_PutI':\n",
      "\tPutI(stmt,instAddr,addr)\n",
      "if stmt.tag == 'Ist_WrTmp':\n",
      "\tWrTmp(stmt,instAddr,addr)\n",
      "if stmt.tag == 'Ist_Store':\n",
      "\tStore(stmt,instAddr,addr)\n",
      "if stmt.tag == 'Ist_CAS':\n",
      "\tCAS(stmt,instAddr,addr)\n",
      "if stmt.tag == 'Ist_LLSC':\n",
      "\tLLSC(stmt,instAddr,addr)\n",
      "if stmt.tag == 'Ist_MBE':\n",
      "\tMBE(stmt,instAddr,addr)\n",
      "if stmt.tag == 'Ist_Dirty':\n",
      "\tDirty(stmt,instAddr,addr)\n",
      "if stmt.tag == 'Ist_Exit':\n",
      "\tExit(stmt,instAddr,addr)\n",
      "if stmt.tag == 'Ist_LoadG':\n",
      "\tLoadG(stmt,instAddr,addr)\n",
      "if stmt.tag == 'Ist_StoreG':\n",
      "\tStoreG(stmt,instAddr,addr)\n"
     ]
    }
   ],
   "source": [
    "for i in opt:\n",
    "    print(\"if stmt.tag == 'Ist_%s':\"%(i))\n",
    "    print(\"\\t%s(stmt,instAddr,addr)\"%(i))"
   ]
  },
  {
   "cell_type": "code",
   "execution_count": 3,
   "id": "2724c988",
   "metadata": {},
   "outputs": [
    {
     "name": "stdout",
     "output_type": "stream",
     "text": [
      "def __NoOp(self,stmt):\n",
      "\traise Exception('Not Implimented NoOp')\n",
      "\n",
      "def __IMark(self,stmt):\n",
      "\traise Exception('Not Implimented IMark')\n",
      "\n",
      "def __AbiHint(self,stmt):\n",
      "\traise Exception('Not Implimented AbiHint')\n",
      "\n",
      "def __Put(self,stmt):\n",
      "\traise Exception('Not Implimented Put')\n",
      "\n",
      "def __PutI(self,stmt):\n",
      "\traise Exception('Not Implimented PutI')\n",
      "\n",
      "def __WrTmp(self,stmt):\n",
      "\traise Exception('Not Implimented WrTmp')\n",
      "\n",
      "def __Store(self,stmt):\n",
      "\traise Exception('Not Implimented Store')\n",
      "\n",
      "def __CAS(self,stmt):\n",
      "\traise Exception('Not Implimented CAS')\n",
      "\n",
      "def __LLSC(self,stmt):\n",
      "\traise Exception('Not Implimented LLSC')\n",
      "\n",
      "def __MBE(self,stmt):\n",
      "\traise Exception('Not Implimented MBE')\n",
      "\n",
      "def __Dirty(self,stmt):\n",
      "\traise Exception('Not Implimented Dirty')\n",
      "\n",
      "def __Exit(self,stmt):\n",
      "\traise Exception('Not Implimented Exit')\n",
      "\n",
      "def __LoadG(self,stmt):\n",
      "\traise Exception('Not Implimented LoadG')\n",
      "\n",
      "def __StoreG(self,stmt):\n",
      "\traise Exception('Not Implimented StoreG')\n",
      "\n"
     ]
    }
   ],
   "source": [
    "for i in opt:\n",
    "    print(\"def __%s(self,stmt):\"%(i))\n",
    "    print(\"\\traise Exception('Not Implimented %s')\"%(i))\n",
    "    print()"
   ]
  },
  {
   "cell_type": "code",
   "execution_count": null,
   "id": "cfe63a70",
   "metadata": {},
   "outputs": [],
   "source": []
  }
 ],
 "metadata": {
  "kernelspec": {
   "display_name": "Python 3 (ipykernel)",
   "language": "python",
   "name": "python3"
  },
  "language_info": {
   "codemirror_mode": {
    "name": "ipython",
    "version": 3
   },
   "file_extension": ".py",
   "mimetype": "text/x-python",
   "name": "python",
   "nbconvert_exporter": "python",
   "pygments_lexer": "ipython3",
   "version": "3.8.10"
  }
 },
 "nbformat": 4,
 "nbformat_minor": 5
}
